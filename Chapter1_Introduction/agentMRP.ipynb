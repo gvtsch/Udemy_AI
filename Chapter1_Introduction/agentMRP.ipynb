{
 "cells": [
  {
   "cell_type": "code",
   "execution_count": null,
   "metadata": {},
   "outputs": [],
   "source": [
    "import numpy as np"
   ]
  },
  {
   "cell_type": "code",
   "execution_count": null,
   "metadata": {},
   "outputs": [],
   "source": [
    "STATES = [\"a\", \"b\"]\n",
    "ACTIONS = [\"a\", \"b\"]\n",
    "REWARDS = {\"a\": {\"a\": 0, \"b\": 7}, \"b\": {\"a\": -5, \"b\": 0}}\n",
    "TRANSITIONS = {\"a\": {\"a\": 0.1, \"b\": 0.9}, \"b\": {\"a\": 0.9, \"b\": 0.1}}"
   ]
  },
  {
   "cell_type": "code",
   "execution_count": null,
   "metadata": {},
   "outputs": [],
   "source": [
    "state = \"a\"\n",
    "all_states = state\n",
    "reward = 0\n",
    "total_reward = 0\n",
    "\n",
    "print(f\"Start-State: {state} Start-Reward: {reward}\\n\\n\")\n",
    "\n",
    "for i in range(1, 11):\n",
    "    print(f\"State: {state} - Iteration: {i}\")\n",
    "    action = input(\"Action \")\n",
    "    if action in ACTIONS:\n",
    "        t = np.random.choice(len(STATES), p = list(TRANSITIONS[state].values()))\n",
    "        transition = STATES[t]\n",
    "        reward = REWARDS[state][transition]\n",
    "        total_reward += reward\n",
    "        state = transition\n",
    "        all_states += \" -> \" + state\n",
    "        print(f\"New State: {state} Reward: {reward} Total-Reward: {total_reward}\")"
   ]
  }
 ],
 "metadata": {
  "interpreter": {
   "hash": "ad6c57515631d9bb109eb499b4bb1ec6f506277a5ee28599dfb5ae2805d1ee5a"
  },
  "kernelspec": {
   "display_name": "Python 3.9.12 ('tf_udemy')",
   "language": "python",
   "name": "python3"
  },
  "language_info": {
   "codemirror_mode": {
    "name": "ipython",
    "version": 3
   },
   "file_extension": ".py",
   "mimetype": "text/x-python",
   "name": "python",
   "nbconvert_exporter": "python",
   "pygments_lexer": "ipython3",
   "version": "3.9.12"
  },
  "orig_nbformat": 4
 },
 "nbformat": 4,
 "nbformat_minor": 2
}
