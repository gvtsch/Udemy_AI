{
 "cells": [
  {
   "cell_type": "code",
   "execution_count": 4,
   "metadata": {},
   "outputs": [],
   "source": [
    "def discounted_reward(rewards: list, gamma: float) -> float:\n",
    "    result = 0.0\n",
    "    for t in range(len(rewards)):\n",
    "        result += gamma**t * rewards[t] #Formel\n",
    "    return result"
   ]
  },
  {
   "cell_type": "code",
   "execution_count": 5,
   "metadata": {},
   "outputs": [],
   "source": [
    "def main() -> None:\n",
    "    gamma = 0.99 #[0 1]\n",
    "    rewards = [1, 1, 1, -1, -1 ,1, -1]\n",
    "\n",
    "    discounted_reward_value = discounted_reward(rewards, gamma)\n",
    "    print(f\"gamma: {gamma}\")\n",
    "    print(f\"rewards: {rewards}\")\n",
    "    print(f\"discounted_reward_value: {discounted_reward_value}\")"
   ]
  },
  {
   "cell_type": "code",
   "execution_count": 7,
   "metadata": {},
   "outputs": [
    {
     "name": "stdout",
     "output_type": "stream",
     "text": [
      "gamma: 0.99\n",
      "rewards: [1, 1, 1, -1, -1, 1, -1]\n",
      "discounted_reward_value: 1.0487148904989998\n"
     ]
    }
   ],
   "source": [
    "if __name__ == \"__main__\":\n",
    "    main()"
   ]
  }
 ],
 "metadata": {
  "interpreter": {
   "hash": "ad6c57515631d9bb109eb499b4bb1ec6f506277a5ee28599dfb5ae2805d1ee5a"
  },
  "kernelspec": {
   "display_name": "Python 3.9.12 ('tf_udemy')",
   "language": "python",
   "name": "python3"
  },
  "language_info": {
   "codemirror_mode": {
    "name": "ipython",
    "version": 3
   },
   "file_extension": ".py",
   "mimetype": "text/x-python",
   "name": "python",
   "nbconvert_exporter": "python",
   "pygments_lexer": "ipython3",
   "version": "3.9.12"
  },
  "orig_nbformat": 4
 },
 "nbformat": 4,
 "nbformat_minor": 2
}
