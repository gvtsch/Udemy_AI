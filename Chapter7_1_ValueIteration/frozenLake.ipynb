{
 "cells": [
  {
   "cell_type": "code",
   "execution_count": null,
   "metadata": {},
   "outputs": [],
   "source": [
    "import gym\n",
    "import math\n",
    "import numpy as np\n",
    "import matplotlib.pyplot as plt\n",
    "from typing import Any, List, Tuple"
   ]
  },
  {
   "cell_type": "code",
   "execution_count": null,
   "metadata": {},
   "outputs": [],
   "source": [
    "class Agent:\n",
    "    def __init__(self, env: gym.Env) -> None:\n",
    "        self.env = env\n",
    "        self.observations: int = self.env.observation_space.shape[0]\n",
    "        self.actions: int = self.env.action_space.n\n",
    "\n",
    "    def get_action(self) -> Any:\n",
    "        action = self.env.action_space.sample()\n",
    "        return action\n",
    "\n",
    "    def get_random_action(self) -> Any:\n",
    "        action = self.env.action_space.sample()\n",
    "        return action\n",
    "\n",
    "    def get_samples(self, num_episodes: int) -> None:\n",
    "        pass\n",
    "\n",
    "    def compute_q_values(self) -> None:\n",
    "        pass\n",
    "\n",
    "    def train(self, num_iterations: int, num_episodes: int) -> None:\n",
    "        pass\n",
    "\n",
    "    def play(self, num_episodes: int, render: bool = True) -> None:\n",
    "        for episode in range(num_episodes):\n",
    "            state = self.env.reset()\n",
    "            total_reward = 0.0\n",
    "\n",
    "            while True:\n",
    "                if render:\n",
    "                    self.env.render()\n",
    "                action = self.get_action()\n",
    "                state, reward, done, _ = self.env.step(action)\n",
    "                total_reward += reward\n",
    "                if done:\n",
    "                    break\n",
    "\n",
    "            print(f\"Episode: {episode} Total Reward: {total_reward}\")\n",
    "        self.env.close()"
   ]
  },
  {
   "cell_type": "code",
   "execution_count": null,
   "metadata": {},
   "outputs": [],
   "source": [
    "def main() -> None:\n",
    "    env = gym.make(\"FrozenLake-v1\")\n",
    "    agent = Agent(env)\n",
    "    agent.train(num_iterations=10_000, num_episodes=1_000)\n",
    "    agent.play(num_episodes=5)"
   ]
  },
  {
   "cell_type": "code",
   "execution_count": null,
   "metadata": {},
   "outputs": [],
   "source": [
    "if __name__ == \"__main__\":\n",
    "    main()"
   ]
  }
 ],
 "metadata": {
  "interpreter": {
   "hash": "ad6c57515631d9bb109eb499b4bb1ec6f506277a5ee28599dfb5ae2805d1ee5a"
  },
  "kernelspec": {
   "display_name": "Python 3.9.12 ('tf_udemy')",
   "language": "python",
   "name": "python3"
  },
  "language_info": {
   "codemirror_mode": {
    "name": "ipython",
    "version": 3
   },
   "file_extension": ".py",
   "mimetype": "text/x-python",
   "name": "python",
   "nbconvert_exporter": "python",
   "pygments_lexer": "ipython3",
   "version": "3.9.12"
  },
  "orig_nbformat": 4
 },
 "nbformat": 4,
 "nbformat_minor": 2
}
