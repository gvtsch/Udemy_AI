{
 "cells": [
  {
   "cell_type": "code",
   "execution_count": 1,
   "metadata": {},
   "outputs": [],
   "source": [
    "import gym\n",
    "import numpy as np"
   ]
  },
  {
   "cell_type": "code",
   "execution_count": 2,
   "metadata": {},
   "outputs": [],
   "source": [
    "class Agent:\n",
    "    def __init__(self, env: gym.Env) -> None:\n",
    "        self.env = env\n",
    "\n",
    "    def get_action(self) -> int:\n",
    "        return self.env.action_space.sample()\n",
    "\n",
    "    def play(self, episodes: int, render: bool = True) -> list:\n",
    "        rewards = [0.0 for _ in range(episodes)]\n",
    "        for episode in range(episodes):\n",
    "            self.env.reset()\n",
    "            total_reward = 0.0\n",
    "\n",
    "            while True:\n",
    "                if render:\n",
    "                    self.env.render() # Rendern wird beim Trainieren einfach deaktivieren\n",
    "                action = self.get_action()\n",
    "                state, reward, done, _ = self.env.step(action)\n",
    "                total_reward += reward\n",
    "                if done:\n",
    "                    break\n",
    "\n",
    "            print(f\"Episode: {episode} --- Total reward: {total_reward}\")\n",
    "            rewards.append(total_reward)\n",
    "        self.env.close()\n",
    "        return rewards"
   ]
  },
  {
   "cell_type": "code",
   "execution_count": 3,
   "metadata": {},
   "outputs": [],
   "source": [
    "def main() -> None:\n",
    "    games = [\n",
    "        # \"CartPole-v1\",\n",
    "        # \"MountainCar-v0\",\n",
    "        # \"PongNoFrameskip-v4\",\n",
    "        \"Breakout-v0\",\n",
    "    ]\n",
    "\n",
    "    for game in games:\n",
    "        env = gym.make(game)\n",
    "        agent = Agent(env)\n",
    "        rewards = agent.play(episodes=100, render=True)\n",
    "\n",
    "        rewards_mean = np.mean(rewards)\n",
    "        rewards_min = np.min(rewards)\n",
    "        rewards_max = np.max(rewards)\n",
    "\n",
    "        print(f\"Rewards_mean: {rewards_mean}\")\n",
    "        print(f\"Rewards_min: {rewards_min}\")\n",
    "        print(f\"Rewards_max: {rewards_max}\")"
   ]
  },
  {
   "cell_type": "code",
   "execution_count": 4,
   "metadata": {},
   "outputs": [
    {
     "name": "stdout",
     "output_type": "stream",
     "text": [
      "Episode: 0 --- Total reward: 10.0\n",
      "Rewards_mean: 5.0\n",
      "Rewards_min: 0.0\n",
      "Rewards_max: 10.0\n",
      "Episode: 0 --- Total reward: -200.0\n",
      "Rewards_mean: -100.0\n",
      "Rewards_min: -200.0\n",
      "Rewards_max: 0.0\n"
     ]
    },
    {
     "name": "stderr",
     "output_type": "stream",
     "text": [
      "C:\\Users\\gutsc\\anaconda3\\envs\\tf_udemy\\lib\\site-packages\\pyglet\\image\\codecs\\wic.py:434: UserWarning: [WinError -2147417850] Der Threadmodus kann nicht nach dem Einstellen geändert werden\n",
      "  warnings.warn(str(err))\n"
     ]
    },
    {
     "name": "stdout",
     "output_type": "stream",
     "text": [
      "Episode: 0 --- Total reward: -21.0\n",
      "Rewards_mean: -10.5\n",
      "Rewards_min: -21.0\n",
      "Rewards_max: 0.0\n",
      "Episode: 0 --- Total reward: 1.0\n",
      "Rewards_mean: 0.5\n",
      "Rewards_min: 0.0\n",
      "Rewards_max: 1.0\n"
     ]
    }
   ],
   "source": [
    "if __name__ == \"__main__\":\n",
    "    main()"
   ]
  }
 ],
 "metadata": {
  "interpreter": {
   "hash": "ad6c57515631d9bb109eb499b4bb1ec6f506277a5ee28599dfb5ae2805d1ee5a"
  },
  "kernelspec": {
   "display_name": "Python 3.9.12 ('tf_udemy')",
   "language": "python",
   "name": "python3"
  },
  "language_info": {
   "codemirror_mode": {
    "name": "ipython",
    "version": 3
   },
   "file_extension": ".py",
   "mimetype": "text/x-python",
   "name": "python",
   "nbconvert_exporter": "python",
   "pygments_lexer": "ipython3",
   "version": "3.9.12"
  },
  "orig_nbformat": 4
 },
 "nbformat": 4,
 "nbformat_minor": 2
}
