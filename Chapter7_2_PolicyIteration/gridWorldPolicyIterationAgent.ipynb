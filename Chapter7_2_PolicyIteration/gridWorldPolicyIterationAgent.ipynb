{
 "cells": [
  {
   "cell_type": "code",
   "execution_count": null,
   "metadata": {},
   "outputs": [],
   "source": [
    "from typing import Any, Tuple\n",
    "import gym\n",
    "import numpy as np\n",
    "from environment import Env"
   ]
  },
  {
   "cell_type": "code",
   "execution_count": null,
   "metadata": {},
   "outputs": [],
   "source": [
    "class Agent:\n",
    "    def __init__(self, env: Env) -> None:\n",
    "        self.env = env\n",
    "        self.rows, self.cols = self.env.width, self.env.height\n",
    "        self.S = self.env.state_all\n",
    "        self.A = self.env.possible_actions\n",
    "        self.num_actions = len(self.A)\n",
    "        self.num_states = len(self.S)\n",
    "        self.gamma = 0.9\n",
    "        # Gleichverteilte Policy:\n",
    "        self.init_prob = 1.0 / self.num_actions \n",
    "        self.policy = np.full(shape=(self.rows, self.cols, self.num_actions), fill_value=self.init_prob)\n",
    "        self.v_values = np.zeros(shape=(self.rows, self.cols))\n",
    "\n",
    "    def get_value(self, state: Tuple[int, int]) -> Any:\n",
    "        pass\n",
    "\n",
    "    def get_action(self, state: Tuple[int, int]) -> Any:\n",
    "        pass\n",
    "\n",
    "    def policy_evaluation(self) -> None:\n",
    "        pass\n",
    "\n",
    "    def policy_improvement(self) -> None:\n",
    "        pass"
   ]
  },
  {
   "cell_type": "code",
   "execution_count": null,
   "metadata": {},
   "outputs": [],
   "source": [
    "def main() -> None:\n",
    "    pass"
   ]
  },
  {
   "cell_type": "code",
   "execution_count": null,
   "metadata": {},
   "outputs": [],
   "source": [
    "if __name__ == \"__main__\":\n",
    "    main()"
   ]
  }
 ],
 "metadata": {
  "interpreter": {
   "hash": "ad6c57515631d9bb109eb499b4bb1ec6f506277a5ee28599dfb5ae2805d1ee5a"
  },
  "kernelspec": {
   "display_name": "Python 3.9.12 ('tf_udemy')",
   "language": "python",
   "name": "python3"
  },
  "language_info": {
   "codemirror_mode": {
    "name": "ipython",
    "version": 3
   },
   "file_extension": ".py",
   "mimetype": "text/x-python",
   "name": "python",
   "nbconvert_exporter": "python",
   "pygments_lexer": "ipython3",
   "version": "3.9.12"
  },
  "orig_nbformat": 4
 },
 "nbformat": 4,
 "nbformat_minor": 2
}
