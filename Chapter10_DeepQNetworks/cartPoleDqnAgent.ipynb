{
 "cells": [
  {
   "cell_type": "code",
   "execution_count": 1,
   "metadata": {},
   "outputs": [],
   "source": [
    "import collections\n",
    "import random\n",
    "import gym\n",
    "import numpy as np"
   ]
  },
  {
   "cell_type": "code",
   "execution_count": 2,
   "metadata": {},
   "outputs": [],
   "source": [
    "from cartPoleDqn import DQN"
   ]
  },
  {
   "cell_type": "code",
   "execution_count": 3,
   "metadata": {},
   "outputs": [],
   "source": [
    "class Agent:\n",
    "    def __init__(self, env: gym.Env):\n",
    "        # DQN Env Variables\n",
    "        self.env = env\n",
    "        self.observations = self.env.observation_space.shape\n",
    "        self.actions = self.env.action_space.n\n",
    "        # DQN Agent Variables\n",
    "        self.replay_buffer_size = 50_000\n",
    "        self.train_start = 1_000 \n",
    "            # Ab wie vielen gemachten Spielzügen im Replay-Buffer soll mit dem Training begonnen werden?\n",
    "            # Das Netzwerk wird so nach 1_000 Spielzügen eingeschaltet\n",
    "        self.memory = collections.deque(maxlen=self.replay_buffer_size)\n",
    "            # Eine Liste an der an beiden Seiten etwas ändern kann\n",
    "            # Ist der Speicher erstmal voll, werden die Daten von rechts nach links verschoben, \n",
    "            # bzw. die ältesten Daten werden zugunsten der neuen Daten gelöscht\n",
    "        self.gamma = 0.95\n",
    "        self.epsilon = 1.0\n",
    "            # Wie viel Prozent der der Aktionen sollen schon zu Beginn zufällig gewählt sein?\n",
    "            # Dieser Wert wird im Laufe des Trainings reduziert bis epsilon_min\n",
    "        self.epsilon_min = 0.01\n",
    "            # Minimaler Prozentsatz um zufällige Aktionen auszuführen\n",
    "            # In einem Prozent der Fälle wollen wir noch eine zufällige Aktion haben\n",
    "        self.epsilon_decay = 0.999 \n",
    "            # Je näher an der 1, desto mehr Spielzüge benötigt man,\n",
    "            # um mit epsilon an epsilon_min anzukommen\n",
    "        # DQN Network Variables\n",
    "        self.state_shape = self.observations\n",
    "        self.learning_rate = 1e-3\n",
    "        self.dqn = DQN(\n",
    "            self.state_shape,\n",
    "            self.actions,\n",
    "            self.learning_rate\n",
    "        )\n",
    "        self.target_dqn = DQN(\n",
    "            self.state_shape,\n",
    "            self.actions,\n",
    "            self.learning_rate\n",
    "        )\n",
    "        self.target_dqn.update_model(self.dqn)\n",
    "        self.batch_size = 32\n",
    "\n",
    "    def get_action(self, state):\n",
    "        if np.random.rand() <= self.epsilon: \n",
    "            return np.random.randint(self.actions)\n",
    "        else:\n",
    "            return np.argmax(self.dqn(state)) # Die Aktion mit dem höchsten q-Value\n",
    "\n",
    "    def train(self, num_episodes):\n",
    "        pass\n",
    "\n",
    "    def remember(self, state, action, reward, next_state, done ):\n",
    "        pass\n",
    "    \n",
    "    def replay(self):\n",
    "        pass\n",
    "\n",
    "    def play(self, num_episodes, render=True):\n",
    "        pass"
   ]
  },
  {
   "cell_type": "code",
   "execution_count": 4,
   "metadata": {},
   "outputs": [],
   "source": [
    "if __name__ == \"__main__\":\n",
    "    env = gym.make(\"CartPole-v1\")\n",
    "    agent = Agent(env)"
   ]
  }
 ],
 "metadata": {
  "interpreter": {
   "hash": "ad6c57515631d9bb109eb499b4bb1ec6f506277a5ee28599dfb5ae2805d1ee5a"
  },
  "kernelspec": {
   "display_name": "Python 3.9.12 ('tf_udemy')",
   "language": "python",
   "name": "python3"
  },
  "language_info": {
   "codemirror_mode": {
    "name": "ipython",
    "version": 3
   },
   "file_extension": ".py",
   "mimetype": "text/x-python",
   "name": "python",
   "nbconvert_exporter": "python",
   "pygments_lexer": "ipython3",
   "version": "3.9.12"
  },
  "orig_nbformat": 4
 },
 "nbformat": 4,
 "nbformat_minor": 2
}
